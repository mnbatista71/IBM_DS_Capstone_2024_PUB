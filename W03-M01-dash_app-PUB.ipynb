{
 "cells": [
  {
   "cell_type": "markdown",
   "metadata": {
    "id": "3n3ltmfnrqpi",
    "outputId": "a2d4f52a-2fb7-4668-f5f0-fe862aab8eb0",
    "papermill": {
     "duration": 1.489571,
     "end_time": "2020-09-19T06:26:57.168979",
     "exception": false,
     "start_time": "2020-09-19T06:26:55.679408",
     "status": "completed"
    },
    "tags": []
   },
   "source": [
    "<center>\n",
    "    <img src=\"https://gitlab.com/ibm/skills-network/courses/placeholder101/-/raw/master/labs/module%201/images/IDSNlogo.png\" width=\"300\" alt=\"cognitiveclass.ai logo\"  />\n",
    "</center>\n"
   ]
  },
  {
   "cell_type": "markdown",
   "metadata": {},
   "source": [
    "# **spacex_dash_app**\n"
   ]
  },
  {
   "cell_type": "code",
   "execution_count": 3,
   "metadata": {},
   "outputs": [
    {
     "name": "stdout",
     "output_type": "stream",
     "text": [
      "Requirement already satisfied: dash in /usr/local/anaconda3/lib/python3.12/site-packages (2.18.1)\n",
      "Requirement already satisfied: Flask<3.1,>=1.0.4 in /usr/local/anaconda3/lib/python3.12/site-packages (from dash) (3.0.3)\n",
      "Requirement already satisfied: Werkzeug<3.1 in /usr/local/anaconda3/lib/python3.12/site-packages (from dash) (3.0.3)\n",
      "Requirement already satisfied: plotly>=5.0.0 in /usr/local/anaconda3/lib/python3.12/site-packages (from dash) (5.24.1)\n",
      "Requirement already satisfied: dash-html-components==2.0.0 in /usr/local/anaconda3/lib/python3.12/site-packages (from dash) (2.0.0)\n",
      "Requirement already satisfied: dash-core-components==2.0.0 in /usr/local/anaconda3/lib/python3.12/site-packages (from dash) (2.0.0)\n",
      "Requirement already satisfied: dash-table==5.0.0 in /usr/local/anaconda3/lib/python3.12/site-packages (from dash) (5.0.0)\n",
      "Requirement already satisfied: importlib-metadata in /usr/local/anaconda3/lib/python3.12/site-packages (from dash) (7.0.1)\n",
      "Requirement already satisfied: typing-extensions>=4.1.1 in /usr/local/anaconda3/lib/python3.12/site-packages (from dash) (4.11.0)\n",
      "Requirement already satisfied: requests in /usr/local/anaconda3/lib/python3.12/site-packages (from dash) (2.32.3)\n",
      "Requirement already satisfied: retrying in /usr/local/anaconda3/lib/python3.12/site-packages (from dash) (1.3.4)\n",
      "Requirement already satisfied: nest-asyncio in /usr/local/anaconda3/lib/python3.12/site-packages (from dash) (1.6.0)\n",
      "Requirement already satisfied: setuptools in /usr/local/anaconda3/lib/python3.12/site-packages (from dash) (75.1.0)\n",
      "Requirement already satisfied: Jinja2>=3.1.2 in /usr/local/anaconda3/lib/python3.12/site-packages (from Flask<3.1,>=1.0.4->dash) (3.1.4)\n",
      "Requirement already satisfied: itsdangerous>=2.1.2 in /usr/local/anaconda3/lib/python3.12/site-packages (from Flask<3.1,>=1.0.4->dash) (2.2.0)\n",
      "Requirement already satisfied: click>=8.1.3 in /usr/local/anaconda3/lib/python3.12/site-packages (from Flask<3.1,>=1.0.4->dash) (8.1.7)\n",
      "Requirement already satisfied: blinker>=1.6.2 in /usr/local/anaconda3/lib/python3.12/site-packages (from Flask<3.1,>=1.0.4->dash) (1.6.2)\n",
      "Requirement already satisfied: tenacity>=6.2.0 in /usr/local/anaconda3/lib/python3.12/site-packages (from plotly>=5.0.0->dash) (8.2.3)\n",
      "Requirement already satisfied: packaging in /usr/local/anaconda3/lib/python3.12/site-packages (from plotly>=5.0.0->dash) (24.1)\n",
      "Requirement already satisfied: MarkupSafe>=2.1.1 in /usr/local/anaconda3/lib/python3.12/site-packages (from Werkzeug<3.1->dash) (2.1.3)\n",
      "Requirement already satisfied: zipp>=0.5 in /usr/local/anaconda3/lib/python3.12/site-packages (from importlib-metadata->dash) (3.17.0)\n",
      "Requirement already satisfied: charset-normalizer<4,>=2 in /usr/local/anaconda3/lib/python3.12/site-packages (from requests->dash) (3.3.2)\n",
      "Requirement already satisfied: idna<4,>=2.5 in /usr/local/anaconda3/lib/python3.12/site-packages (from requests->dash) (3.7)\n",
      "Requirement already satisfied: urllib3<3,>=1.21.1 in /usr/local/anaconda3/lib/python3.12/site-packages (from requests->dash) (2.2.3)\n",
      "Requirement already satisfied: certifi>=2017.4.17 in /usr/local/anaconda3/lib/python3.12/site-packages (from requests->dash) (2024.8.30)\n",
      "Requirement already satisfied: six>=1.7.0 in /usr/local/anaconda3/lib/python3.12/site-packages (from retrying->dash) (1.16.0)\n"
     ]
    }
   ],
   "source": [
    "!pip install dash"
   ]
  },
  {
   "cell_type": "code",
   "execution_count": 4,
   "metadata": {},
   "outputs": [
    {
     "name": "stderr",
     "output_type": "stream",
     "text": [
      "/var/folders/l9/78bm0d1j7qj5p8wrxdjn3d5h0000gn/T/ipykernel_62067/2517657126.py:4: UserWarning: \n",
      "The dash_html_components package is deprecated. Please replace\n",
      "`import dash_html_components as html` with `from dash import html`\n",
      "  import dash_html_components as html\n",
      "/var/folders/l9/78bm0d1j7qj5p8wrxdjn3d5h0000gn/T/ipykernel_62067/2517657126.py:5: UserWarning: \n",
      "The dash_core_components package is deprecated. Please replace\n",
      "`import dash_core_components as dcc` with `from dash import dcc`\n",
      "  import dash_core_components as dcc\n"
     ]
    }
   ],
   "source": [
    "# Import required libraries\n",
    "import pandas as pd\n",
    "import dash\n",
    "import dash_html_components as html\n",
    "import dash_core_components as dcc\n",
    "from dash.dependencies import Input, Output, State\n",
    "import plotly.express as px\n",
    "import numpy as np\n"
   ]
  },
  {
   "cell_type": "code",
   "execution_count": 5,
   "metadata": {},
   "outputs": [],
   "source": [
    "# Read the spacex_launch_dash.csv file\n",
    "spacex_df = pd.read_csv(\"spacex_launch_dash.csv\")\n",
    "max_payload = spacex_df['Payload Mass (kg)'].max()\n",
    "min_payload = spacex_df['Payload Mass (kg)'].min()\n",
    "\n",
    "# spacex_df.head()"
   ]
  },
  {
   "cell_type": "code",
   "execution_count": 6,
   "metadata": {},
   "outputs": [],
   "source": [
    "# for TASK 1\n",
    "spacex_df_aux = spacex_df[['Launch Site']]\n",
    "launch_sites_df = spacex_df_aux.groupby(['Launch Site'], as_index=False).first()\n",
    "launch_sites_df = launch_sites_df[['Launch Site']]\n",
    "#launch_sites_df"
   ]
  },
  {
   "cell_type": "code",
   "execution_count": 7,
   "metadata": {},
   "outputs": [],
   "source": [
    "# Create a dash application\n",
    "app = dash.Dash(__name__)"
   ]
  },
  {
   "cell_type": "code",
   "execution_count": 8,
   "metadata": {},
   "outputs": [],
   "source": [
    "# REVIEW1: Clear the layout and do not display exception till callback gets executed\n",
    "app.config.suppress_callback_exceptions = True"
   ]
  },
  {
   "cell_type": "code",
   "execution_count": 9,
   "metadata": {},
   "outputs": [],
   "source": [
    "# options_sites_list = [{'label': i, 'value': i} for i in zip(launch_sites_df['Launch Site'])]\n",
    "sites_list = [{'label': i, 'value': i} for i in launch_sites_df['Launch Site']]\n",
    "\n",
    "# sites_list"
   ]
  },
  {
   "cell_type": "code",
   "execution_count": 10,
   "metadata": {},
   "outputs": [],
   "source": [
    "#options_sites\n",
    "options_dropdown = [{'label': 'All Sites', 'value': 'ALL'}] + sites_list\n",
    "# options_dropdown"
   ]
  },
  {
   "cell_type": "code",
   "execution_count": 11,
   "metadata": {},
   "outputs": [],
   "source": [
    "# myColor_pie = '#D0D5E8'\n",
    "launch_site = \"ALL\""
   ]
  },
  {
   "cell_type": "code",
   "execution_count": 12,
   "metadata": {},
   "outputs": [],
   "source": [
    "# Create an app layout\n",
    "app.layout = html.Div(children=[html.H1('SpaceX Launch Records Dashboard',\n",
    "                                        style={'textAlign': 'center', 'color': '#503D36',\n",
    "                                               'font-size': 40}),\n",
    "                                # TASK 1: Add a dropdown list to enable Launch Site selection\n",
    "                                # The default select value is for ALL sites\n",
    "                                # dcc.Dropdown(id='site-dropdown',...)\n",
    "                                 dcc.Dropdown( #id='site-dropdown',\n",
    "                                                options = options_dropdown,\n",
    "                                                placeholder='Select a launch site',\n",
    "                                                style={'width':'100%', 'padding':'3px', 'font-size': '15px', 'text-align-last' : 'left'},\n",
    "                                                id='site-dropdown',\n",
    "                                                ),\n",
    "                                html.Br(),\n",
    "                                html.Br(),\n",
    "                                \n",
    "                                # TASK 2: Add a pie chart to show the total successful launches count for all sites\n",
    "                                # If a specific launch site was selected, show the Success vs. Failed counts for the site\n",
    "                                html.Div([html.H2(\"Success pie chart\")], id='success-pie-chart'),\n",
    "#                                html.Div(dcc.Graph(id='success-pie-chart')),\n",
    "#                                                    html.H2('Success pie chart'),\n",
    "#                                html.Div([html.H2(\"Sucess pie chart\")], style={'textAlign': 'center', 'background': myColor_pie, 'width': '50%', 'border-style': 'ridge'}, id='success-pie-chart'),\n",
    "                                html.Br(),\n",
    "\n",
    "                                html.P(\"Payload range (Kg):\"),\n",
    "                                # TASK 3: Add a slider to select payload range\n",
    "                                #dcc.RangeSlider(id='payload-slider',...)\n",
    "                                dcc.RangeSlider(id='payload-slider',\n",
    "                                    min=0, max=10000, step=1000,\n",
    "                                    # marks={0: '0', 100: '100'},\n",
    "                                    value=[min_payload, max_payload], allowCross=False),\n",
    "\n",
    "                                # TASK 4: Add a scatter chart to show the correlation between payload and launch success\n",
    "#                                html.Div(dcc.Graph(id='success-payload-scatter-chart')),\n",
    "                                html.Div(id='success-payload-scatter-chart'),\n",
    "                                ])\n",
    "\n",
    "\n",
    "                                "
   ]
  },
  {
   "cell_type": "code",
   "execution_count": 13,
   "metadata": {},
   "outputs": [],
   "source": [
    "# TASK 2:\n",
    "# Add a callback function for `site-dropdown` as input, `success-pie-chart` as output\n",
    "#@app.callback( [Output(component_id='success-pie-chart', component_property='children')],\n",
    "\n",
    "'''     \n",
    "# version 2\n",
    "# cuando se pide por sitio, se muestra Success y Failed\n",
    "# cuando se pide por \"ALL\", se muestran los Success de cada sitio\n",
    "# if launch_site = 'ALL'\n",
    "expected df_aux shape\n",
    "############################\n",
    "     Launch Site  Success\n",
    "0   CCAFS LC-40        7\n",
    "1  CCAFS SLC-40        3\n",
    "2    KSC LC-39A       10\n",
    "3   VAFB SLC-4E        4\n",
    "############################\n",
    "else\n",
    "the name of the 1st column corresponds to the selected site\n",
    "############################\n",
    "   CCAFS LC-40  Count\n",
    "0     Success      7\n",
    "1      Failed     19\n",
    "############################\n",
    "or \n",
    "############################\n",
    "   VAFB SLC-4E  Count\n",
    "0     Success      4\n",
    "1      Failed      6\n",
    "############################\n",
    "or whatever, depending on the 'launch_site' value\n",
    "'''\n",
    "\n",
    "\n",
    "@app.callback( Output(component_id='success-pie-chart', component_property='children'),\n",
    "               Input(component_id='site-dropdown', component_property='value')\n",
    "              )\n",
    "\n",
    "def update_pie(launch_site):\n",
    "\n",
    "        # Select data\n",
    "        if launch_site == 'ALL':\n",
    "            df_aux =  spacex_df[['Launch Site', 'class']].copy()\n",
    "            # aprovechamos que \"class\" es \"success = 1\" y \"failed = 0\", entonces podemos sumar los \"class\" y nos da\n",
    "            # la cantidad de lanzamientos ok. \n",
    "            # .sum() = lanzamientos ok\n",
    "            # .count() = total de lanzamientos\n",
    "            # .count() - .sum() = lanzamientos failed\n",
    "            df_aux = pd.DataFrame(df_aux.groupby(['Launch Site'],as_index=False)['class'].sum())\n",
    "            df_aux.columns=['Launch Site', 'Success']\n",
    "            \n",
    "            # parameters for pie\n",
    "            values = 'Success'\n",
    "            names = 'Launch Site'\n",
    "            color = 'Launch Site'\n",
    "            color_discrete_map=None # default colors\n",
    "            title='Count of successful launches in all sites: ' + str(df_aux['Success'].sum())\n",
    "        else:\n",
    "            aux_ok = spacex_df[(spacex_df['Launch Site']==launch_site) & (spacex_df['class'] == 1)]['class'].count()\n",
    "            aux_failed = spacex_df[(spacex_df['Launch Site']==launch_site) & (spacex_df['class'] == 0)]['class'].count()\n",
    "            df_aux =  pd.DataFrame([['Success', aux_ok], ['Failed', aux_failed]], columns=['Result', 'Count'])\n",
    "            df_aux.columns=[launch_site, 'Count']\n",
    "            # parameters for pie\n",
    "            values = 'Count'\n",
    "            names = launch_site #name of the column that will take values Success or Failed\n",
    "            color = launch_site #name of the column that will take values Success or Failed\n",
    "            color_discrete_map={'Success':'green', 'Failed':'red'}\n",
    "            title='Count of Successful vs Failed launches in selected site: ' + launch_site + '<br>  Total launches: ' + str(aux_ok+aux_failed) + '<br>  Successful launches: ' + str(aux_ok) + '<br>  Unsuccessful launches: ' + str(aux_failed)\n",
    "\n",
    "        pie_fig = px.pie(df_aux, values=values, names=names, color=color,\n",
    "             color_discrete_map=color_discrete_map, title=title)\n",
    "        \n",
    "        return(dcc.Graph(figure=pie_fig))\n"
   ]
  },
  {
   "cell_type": "code",
   "execution_count": 14,
   "metadata": {},
   "outputs": [],
   "source": [
    "# TASK 4:\n",
    "# Add a callback function for `site-dropdown` and `payload-slider` as inputs, `success-payload-scatter-chart` as output\n",
    "\n",
    "@app.callback( Output(component_id='success-payload-scatter-chart', component_property='children'),\n",
    "               [Input(component_id='site-dropdown', component_property='value'), \n",
    "                Input(component_id=\"payload-slider\", component_property=\"value\")]\n",
    "              )\n",
    "\n",
    "def update_scattered(launch_site, payload_sldr):\n",
    "    \n",
    "    aux_min_PLM = payload_sldr[0]\n",
    "    aux_max_PLM = payload_sldr[1]\n",
    "\n",
    "    # filtering spacex_df with payload mass in range\n",
    "    df_aux =  spacex_df[(spacex_df['Payload Mass (kg)'] >= aux_min_PLM)\n",
    "                        & (spacex_df['Payload Mass (kg)'] <= aux_max_PLM)]\n",
    "    cc = -1\n",
    "\n",
    "    # parameters for scatter\n",
    "    x = 'Payload Mass (kg)'\n",
    "    y = 'class'\n",
    "    color = 'Booster Version Category'\n",
    "    symbol = 'Booster Version Category'\n",
    "    \n",
    "    if launch_site == 'ALL': \n",
    "#        df_aux has been set before the if for ALL values in range of payload mass as default\n",
    "        title='Payload detail for all sites with payload range: '\n",
    "    else:\n",
    "# filtering df_aux for a specific site        \n",
    "        df_aux =  df_aux[(df_aux['Launch Site']==launch_site)]\n",
    "        title='Payload detail for site: ' + launch_site + ', with payload range: '\n",
    "\n",
    "    cc = df_aux['class'].count()\n",
    "    cc_ok = df_aux[df_aux['class'] == 1]['class'].count()\n",
    "    cc_failed = df_aux[df_aux['class'] == 0]['class'].count()\n",
    "    title = title + str(aux_min_PLM) + ' - ' + str(aux_max_PLM) + ' - ' + str(cc) + ' launches / ' + str(cc_ok) + ' Ok / ' + str(cc_failed) + ' failed.'\n",
    "    scatter_fig = px.scatter(df_aux, x=x, y=y, color=color, symbol=symbol, title=title)\n",
    "    return(dcc.Graph(figure=scatter_fig))\n"
   ]
  },
  {
   "cell_type": "code",
   "execution_count": 15,
   "metadata": {},
   "outputs": [
    {
     "data": {
      "text/html": [
       "\n",
       "        <iframe\n",
       "            width=\"100%\"\n",
       "            height=\"650\"\n",
       "            src=\"http://127.0.0.1:8050/\"\n",
       "            frameborder=\"0\"\n",
       "            allowfullscreen\n",
       "            \n",
       "        ></iframe>\n",
       "        "
      ],
      "text/plain": [
       "<IPython.lib.display.IFrame at 0x140b07410>"
      ]
     },
     "metadata": {},
     "output_type": "display_data"
    },
    {
     "name": "stderr",
     "output_type": "stream",
     "text": [
      "[2024-11-13 17:01:18,596] ERROR in app: Exception on /_dash-update-component [POST]\n",
      "Traceback (most recent call last):\n",
      "  File \"/usr/local/anaconda3/lib/python3.12/site-packages/flask/app.py\", line 1473, in wsgi_app\n",
      "    response = self.full_dispatch_request()\n",
      "               ^^^^^^^^^^^^^^^^^^^^^^^^^^^^\n",
      "  File \"/usr/local/anaconda3/lib/python3.12/site-packages/flask/app.py\", line 882, in full_dispatch_request\n",
      "    rv = self.handle_user_exception(e)\n",
      "         ^^^^^^^^^^^^^^^^^^^^^^^^^^^^^\n",
      "  File \"/usr/local/anaconda3/lib/python3.12/site-packages/flask/app.py\", line 880, in full_dispatch_request\n",
      "    rv = self.dispatch_request()\n",
      "         ^^^^^^^^^^^^^^^^^^^^^^^\n",
      "  File \"/usr/local/anaconda3/lib/python3.12/site-packages/flask/app.py\", line 865, in dispatch_request\n",
      "    return self.ensure_sync(self.view_functions[rule.endpoint])(**view_args)  # type: ignore[no-any-return]\n",
      "           ^^^^^^^^^^^^^^^^^^^^^^^^^^^^^^^^^^^^^^^^^^^^^^^^^^^^^^^^^^^^^^^^^\n",
      "  File \"/usr/local/anaconda3/lib/python3.12/site-packages/dash/dash.py\", line 1376, in dispatch\n",
      "    ctx.run(\n",
      "  File \"/usr/local/anaconda3/lib/python3.12/site-packages/dash/_callback.py\", line 514, in add_context\n",
      "    raise err\n",
      "  File \"/usr/local/anaconda3/lib/python3.12/site-packages/dash/_callback.py\", line 503, in add_context\n",
      "    output_value = _invoke_callback(func, *func_args, **func_kwargs)\n",
      "                   ^^^^^^^^^^^^^^^^^^^^^^^^^^^^^^^^^^^^^^^^^^^^^^^^^\n",
      "  File \"/usr/local/anaconda3/lib/python3.12/site-packages/dash/_callback.py\", line 43, in _invoke_callback\n",
      "    return func(*args, **kwargs)  # %% callback invoked %%\n",
      "           ^^^^^^^^^^^^^^^^^^^^^\n",
      "  File \"/var/folders/l9/78bm0d1j7qj5p8wrxdjn3d5h0000gn/T/ipykernel_62067/3565177385.py\", line 68, in update_pie\n",
      "    title='Count of Successful vs Failed launches in selected site: ' + launch_site + '<br>  Total launches: ' + str(aux_ok+aux_failed) + '<br>  Successful launches: ' + str(aux_ok) + '<br>  Unsuccessful launches: ' + str(aux_failed)\n",
      "          ~~~~~~~~~~~~~~~~~~~~~~~~~~~~~~~~~~~~~~~~~~~~~~~~~~~~~~~~~~~~^~~~~~~~~~~~~\n",
      "TypeError: can only concatenate str (not \"NoneType\") to str\n",
      "[2024-11-13 17:01:18,624] ERROR in app: Exception on /_dash-update-component [POST]\n",
      "Traceback (most recent call last):\n",
      "  File \"/usr/local/anaconda3/lib/python3.12/site-packages/flask/app.py\", line 1473, in wsgi_app\n",
      "    response = self.full_dispatch_request()\n",
      "               ^^^^^^^^^^^^^^^^^^^^^^^^^^^^\n",
      "  File \"/usr/local/anaconda3/lib/python3.12/site-packages/flask/app.py\", line 882, in full_dispatch_request\n",
      "    rv = self.handle_user_exception(e)\n",
      "         ^^^^^^^^^^^^^^^^^^^^^^^^^^^^^\n",
      "  File \"/usr/local/anaconda3/lib/python3.12/site-packages/flask/app.py\", line 880, in full_dispatch_request\n",
      "    rv = self.dispatch_request()\n",
      "         ^^^^^^^^^^^^^^^^^^^^^^^\n",
      "  File \"/usr/local/anaconda3/lib/python3.12/site-packages/flask/app.py\", line 865, in dispatch_request\n",
      "    return self.ensure_sync(self.view_functions[rule.endpoint])(**view_args)  # type: ignore[no-any-return]\n",
      "           ^^^^^^^^^^^^^^^^^^^^^^^^^^^^^^^^^^^^^^^^^^^^^^^^^^^^^^^^^^^^^^^^^\n",
      "  File \"/usr/local/anaconda3/lib/python3.12/site-packages/dash/dash.py\", line 1376, in dispatch\n",
      "    ctx.run(\n",
      "  File \"/usr/local/anaconda3/lib/python3.12/site-packages/dash/_callback.py\", line 514, in add_context\n",
      "    raise err\n",
      "  File \"/usr/local/anaconda3/lib/python3.12/site-packages/dash/_callback.py\", line 503, in add_context\n",
      "    output_value = _invoke_callback(func, *func_args, **func_kwargs)\n",
      "                   ^^^^^^^^^^^^^^^^^^^^^^^^^^^^^^^^^^^^^^^^^^^^^^^^^\n",
      "  File \"/usr/local/anaconda3/lib/python3.12/site-packages/dash/_callback.py\", line 43, in _invoke_callback\n",
      "    return func(*args, **kwargs)  # %% callback invoked %%\n",
      "           ^^^^^^^^^^^^^^^^^^^^^\n",
      "  File \"/var/folders/l9/78bm0d1j7qj5p8wrxdjn3d5h0000gn/T/ipykernel_62067/615199423.py\", line 31, in update_scattered\n",
      "    title='Payload detail for site: ' + launch_site + ', with payload range: '\n",
      "          ~~~~~~~~~~~~~~~~~~~~~~~~~~~~^~~~~~~~~~~~~\n",
      "TypeError: can only concatenate str (not \"NoneType\") to str\n"
     ]
    }
   ],
   "source": [
    "# Run the app\n",
    "if __name__ == '__main__':\n",
    "    app.run_server(debug=False)\n"
   ]
  },
  {
   "cell_type": "code",
   "execution_count": null,
   "metadata": {},
   "outputs": [],
   "source": []
  },
  {
   "cell_type": "code",
   "execution_count": null,
   "metadata": {},
   "outputs": [],
   "source": []
  },
  {
   "cell_type": "code",
   "execution_count": null,
   "metadata": {},
   "outputs": [],
   "source": []
  },
  {
   "cell_type": "code",
   "execution_count": null,
   "metadata": {},
   "outputs": [],
   "source": []
  }
 ],
 "metadata": {
  "kernelspec": {
   "display_name": "Python 3 (ipykernel)",
   "language": "python",
   "name": "python3"
  },
  "language_info": {
   "codemirror_mode": {
    "name": "ipython",
    "version": 3
   },
   "file_extension": ".py",
   "mimetype": "text/x-python",
   "name": "python",
   "nbconvert_exporter": "python",
   "pygments_lexer": "ipython3",
   "version": "3.12.2"
  },
  "papermill": {
   "duration": 142.196942,
   "end_time": "2020-09-19T06:29:13.341578",
   "environment_variables": {},
   "exception": null,
   "input_path": "__notebook__.ipynb",
   "output_path": "__notebook__.ipynb",
   "parameters": {},
   "start_time": "2020-09-19T06:26:51.144636",
   "version": "2.1.0"
  }
 },
 "nbformat": 4,
 "nbformat_minor": 4
}
